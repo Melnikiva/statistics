{
 "cells": [
  {
   "cell_type": "markdown",
   "metadata": {},
   "source": [
    "## <center>Лабораторна робота №1</center>\n",
    "#### <center>Вибірковий метод та його характеристики</center>"
   ]
  },
  {
   "cell_type": "markdown",
   "metadata": {},
   "source": [
    "**Мета роботи:**  вивчити методи утворення репрезентативної вибірки."
   ]
  },
  {
   "cell_type": "markdown",
   "metadata": {},
   "source": [
    "***\n",
    "1. Для дослідження візьмемо статистику середньодобової відносної вологості повітря у індійському місті Колката\n",
    "***"
   ]
  },
  {
   "cell_type": "code",
   "execution_count": 142,
   "metadata": {
    "tags": []
   },
   "outputs": [
    {
     "data": {
      "text/plain": [
       "0       82.47\n",
       "1       76.76\n",
       "2       73.12\n",
       "3       72.57\n",
       "4       71.88\n",
       "        ...  \n",
       "1821    83.47\n",
       "1822    79.94\n",
       "1823    81.38\n",
       "1824    88.30\n",
       "1825    82.20\n",
       "Name: Relative Humidity, Length: 1826, dtype: float64"
      ]
     },
     "execution_count": 142,
     "metadata": {},
     "output_type": "execute_result"
    }
   ],
   "source": [
    "import pandas as pd\n",
    "df = pd.read_csv('./fiveyearsweatherdata.csv')\n",
    "analysis_set = df[\"Relative Humidity\"]\n",
    "analysis_set"
   ]
  },
  {
   "cell_type": "markdown",
   "metadata": {},
   "source": [
    "***\n",
    "2. Вибираємо 100 випадкових значень\n",
    "***"
   ]
  },
  {
   "cell_type": "code",
   "execution_count": 143,
   "metadata": {},
   "outputs": [
    {
     "name": "stdout",
     "output_type": "stream",
     "text": [
      "[91.91, 91.6, 94.79, 61.25, 82.34, 61.83, 77.04, 87.46, 90.93, 85.43, 45.5, 85.67, 88.22, 66.89, 83.6, 68.83, 90.03, 77.44, 86.69, 81.67, 62.55, 77.16, 65.57, 82.08, 83.38, 55.75, 55.31, 89.59, 78.72, 84.73, 74.31, 45.78, 90.09, 67.49, 83.26, 69.05, 83.63, 78.2, 69.81, 90.63, 82.72, 88.05, 73.61, 89.77, 57.94, 89.86, 71.89, 82.52, 70.86, 61.74, 72.48, 81.05, 85.63, 68.67, 66.19, 66.62, 88.6, 71.95, 75.61, 88.71, 73.4, 64.31, 82.47, 82.76, 62.54, 83.28, 68.07, 56.29, 86.82, 77.73, 68.38, 76.65, 81.34, 83.47, 84.23, 64.5, 91.96, 90.64, 74.13, 82.39, 69.66, 74.77, 65.89, 61.1, 71.26, 70.89, 72.0, 77.76, 68.36, 70.86, 79.56, 88.16, 67.69, 87.91, 78.99, 74.49, 91.97, 67.03, 62.17, 92.49]\n"
     ]
    }
   ],
   "source": [
    "import random\n",
    "\n",
    "n = 100\n",
    "sequence = random.sample(analysis_set.tolist(), n)\n",
    "print(sequence)"
   ]
  },
  {
   "cell_type": "markdown",
   "metadata": {},
   "source": [
    "***\n",
    "3. Ранжуємо вибірку\n",
    "***"
   ]
  },
  {
   "cell_type": "code",
   "execution_count": 144,
   "metadata": {},
   "outputs": [
    {
     "name": "stdout",
     "output_type": "stream",
     "text": [
      "[45.5, 45.78, 55.31, 55.75, 56.29, 57.94, 61.1, 61.25, 61.74, 61.83, 62.17, 62.54, 62.55, 64.31, 64.5, 65.57, 65.89, 66.19, 66.62, 66.89, 67.03, 67.49, 67.69, 68.07, 68.36, 68.38, 68.67, 68.83, 69.05, 69.66, 69.81, 70.86, 70.86, 70.89, 71.26, 71.89, 71.95, 72.0, 72.48, 73.4, 73.61, 74.13, 74.31, 74.49, 74.77, 75.61, 76.65, 77.04, 77.16, 77.44, 77.73, 77.76, 78.2, 78.72, 78.99, 79.56, 81.05, 81.34, 81.67, 82.08, 82.34, 82.39, 82.47, 82.52, 82.72, 82.76, 83.26, 83.28, 83.38, 83.47, 83.6, 83.63, 84.23, 84.73, 85.43, 85.63, 85.67, 86.69, 86.82, 87.46, 87.91, 88.05, 88.16, 88.22, 88.6, 88.71, 89.59, 89.77, 89.86, 90.03, 90.09, 90.63, 90.64, 90.93, 91.6, 91.91, 91.96, 91.97, 92.49, 94.79]\n"
     ]
    }
   ],
   "source": [
    "sequence.sort()\n",
    "print(sequence)"
   ]
  },
  {
   "cell_type": "markdown",
   "metadata": {},
   "source": [
    "***\n",
    "4. Знайдемо розмах вибірки\n",
    "***"
   ]
  },
  {
   "cell_type": "code",
   "execution_count": 145,
   "metadata": {},
   "outputs": [
    {
     "name": "stdout",
     "output_type": "stream",
     "text": [
      "Розмах вибірки: 94.79 - 45.5 = 49.29\n"
     ]
    }
   ],
   "source": [
    "r = round(sequence[-1] - sequence[0], 2)\n",
    "print(f\"Розмах вибірки: {sequence[-1]} - {sequence[0]} = {r}\")"
   ]
  },
  {
   "cell_type": "markdown",
   "metadata": {},
   "source": [
    "***"
   ]
  },
  {
   "cell_type": "markdown",
   "metadata": {},
   "source": [
    "<br>"
   ]
  },
  {
   "cell_type": "markdown",
   "metadata": {},
   "source": [
    " <br>"
   ]
  },
  {
   "cell_type": "markdown",
   "metadata": {},
   "source": [
    " <br>"
   ]
  },
  {
   "cell_type": "markdown",
   "metadata": {},
   "source": [
    " <br>"
   ]
  },
  {
   "cell_type": "markdown",
   "metadata": {},
   "source": [
    " <br>"
   ]
  },
  {
   "cell_type": "markdown",
   "metadata": {},
   "source": [
    "***"
   ]
  },
  {
   "cell_type": "markdown",
   "metadata": {},
   "source": [
    "## <center>Лабораторна робота №2</center>\n",
    "#### <center>Створення інтервального статистичного розподілу вибірки, графічні зображення та числові характеристики вибірки</center>"
   ]
  },
  {
   "cell_type": "markdown",
   "metadata": {},
   "source": [
    "**Мета роботи:** навчитися: створювати інтервальний статистичний розподіл з варіант\n",
    "вибірки; зображати графічно інтервальний статистичний розподіл (побудова\n",
    "полігону, гістограми та кумуляти), знаходження моди та медіани за\n",
    "графічними зображеннями; обчислення числових характеристик ( середнього\n",
    "зваженого, дисперсії, асиметрії і ексцесу (за потреби)) вибірки."
   ]
  },
  {
   "cell_type": "code",
   "execution_count": 146,
   "metadata": {},
   "outputs": [
    {
     "name": "stdout",
     "output_type": "stream",
     "text": [
      "Розмах вибірки: 94.79 - 45.5 = 49.29\n"
     ]
    }
   ],
   "source": [
    "r = round(sequence[-1] - sequence[0], 2)\n",
    "print(f\"Розмах вибірки: {sequence[-1]} - {sequence[0]} = {r}\")"
   ]
  },
  {
   "cell_type": "markdown",
   "metadata": {},
   "source": [
    "TODO: формули інтервалів"
   ]
  },
  {
   "cell_type": "code",
   "execution_count": 147,
   "metadata": {},
   "outputs": [
    {
     "name": "stdout",
     "output_type": "stream",
     "text": [
      "Кількість інтервалів: m = 8\n",
      "Довжина інтервалу: k = 6.62\n"
     ]
    }
   ],
   "source": [
    "import math\n",
    "\n",
    "m = 1 + 3.3221 * math.log(n, 10)\n",
    "m = round(m)\n",
    "\n",
    "k = r / (1 + 3.221 * math.log(n, 10))\n",
    "k = round(k, 2)\n",
    "\n",
    "print (f\"Кількість інтервалів: m = {m}\")\n",
    "print (f\"Довжина інтервалу: k = {k}\")"
   ]
  },
  {
   "cell_type": "code",
   "execution_count": 148,
   "metadata": {},
   "outputs": [
    {
     "data": {
      "text/plain": [
       "42.19"
      ]
     },
     "execution_count": 148,
     "metadata": {},
     "output_type": "execute_result"
    }
   ],
   "source": [
    "x_start = sequence[0] - k / 2\n",
    "x_start = round(x_start, 2)\n",
    "x_start"
   ]
  },
  {
   "cell_type": "code",
   "execution_count": 149,
   "metadata": {},
   "outputs": [
    {
     "name": "stdout",
     "output_type": "stream",
     "text": [
      "╒═════╤═════════════╤═══════════════════════╤═══════════╤════════════╤══════════════════════╤═══════════════════════╕\n",
      "│   i │ Інтервал    │   Середини інтервалів │   Частота │   Частість │   Накопичена частота │   Накопичена частість │\n",
      "╞═════╪═════════════╪═══════════════════════╪═══════════╪════════════╪══════════════════════╪═══════════════════════╡\n",
      "│   1 │ 42.19-48.81 │                 45.5  │         2 │       0.02 │                    2 │                  0.02 │\n",
      "├─────┼─────────────┼───────────────────────┼───────────┼────────────┼──────────────────────┼───────────────────────┤\n",
      "│   2 │ 48.81-55.43 │                 52.12 │         1 │       0.01 │                    3 │                  0.03 │\n",
      "├─────┼─────────────┼───────────────────────┼───────────┼────────────┼──────────────────────┼───────────────────────┤\n",
      "│   3 │ 55.43-62.05 │                 58.74 │         7 │       0.07 │                   10 │                  0.1  │\n",
      "├─────┼─────────────┼───────────────────────┼───────────┼────────────┼──────────────────────┼───────────────────────┤\n",
      "│   4 │ 62.05-68.67 │                 65.36 │        17 │       0.17 │                   27 │                  0.27 │\n",
      "├─────┼─────────────┼───────────────────────┼───────────┼────────────┼──────────────────────┼───────────────────────┤\n",
      "│   5 │ 68.67-75.29 │                 71.98 │        19 │       0.19 │                   46 │                  0.46 │\n",
      "├─────┼─────────────┼───────────────────────┼───────────┼────────────┼──────────────────────┼───────────────────────┤\n",
      "│   6 │ 75.29-81.91 │                 78.6  │        14 │       0.14 │                   60 │                  0.6  │\n",
      "├─────┼─────────────┼───────────────────────┼───────────┼────────────┼──────────────────────┼───────────────────────┤\n",
      "│   7 │ 81.91-88.53 │                 85.22 │        25 │       0.25 │                   85 │                  0.85 │\n",
      "├─────┼─────────────┼───────────────────────┼───────────┼────────────┼──────────────────────┼───────────────────────┤\n",
      "│   8 │ 88.53-95.15 │                 91.84 │        16 │       0.16 │                  101 │                  1.01 │\n",
      "╘═════╧═════════════╧═══════════════════════╧═══════════╧════════════╧══════════════════════╧═══════════════════════╛\n"
     ]
    }
   ],
   "source": [
    "from tabulate import tabulate\n",
    "\n",
    "range_start = round(x_start, 2)\n",
    "range_end = round(range_start + k, 2)\n",
    "interval_table = []\n",
    "cumm_count_in_range = 0\n",
    "cumm_freq = 0\n",
    "\n",
    "def count(list1, l, r):\n",
    "    return len(list(x for x in list1 if l <= x <= r))\n",
    "\n",
    "headers = [\"i\", \"Інтервал\", \"Середини інтервалів\", \"Частота\", \"Частість\", \"Накопичена частота\", \"Накопичена частість\"]\n",
    "interval_table.append(headers)\n",
    "\n",
    "for row in range(1, m + 1):\n",
    "    table_row = []\n",
    "    \n",
    "    table_row.append(row)\n",
    "\n",
    "    row_range = ( range_start, range_end )\n",
    "    table_row.append(f\"{row_range[0]}-{row_range[-1]}\")\n",
    "\n",
    "    range_mid = (row_range[-1] + row_range[0]) / 2\n",
    "    table_row.append(round(range_mid) if range_mid % 1 == 0 else round(range_mid, 2))\n",
    "\n",
    "    count_in_range = count(sequence, row_range[0], row_range[-1])\n",
    "    table_row.append(count_in_range)\n",
    "\n",
    "    freq = round(count_in_range / n, 3)\n",
    "    table_row.append(freq)\n",
    "\n",
    "    cumm_count_in_range += count_in_range\n",
    "    table_row.append(cumm_count_in_range)\n",
    "\n",
    "    cumm_freq = round(cumm_freq + freq, 3)\n",
    "    table_row.append(cumm_freq)\n",
    "\n",
    "    interval_table.append(table_row)\n",
    "    range_start = range_end\n",
    "    range_end = round(range_end + k, 2)\n",
    "\n",
    "print(tabulate(interval_table, headers='firstrow', tablefmt='fancy_grid'))"
   ]
  },
  {
   "cell_type": "markdown",
   "metadata": {},
   "source": []
  },
  {
   "cell_type": "code",
   "execution_count": 178,
   "metadata": {},
   "outputs": [
    {
     "data": {
      "image/png": "[encoded data removed]",
      "text/plain": [
       "<Figure size 1200x600 with 1 Axes>"
      ]
     },
     "metadata": {},
     "output_type": "display_data"
    }
   ],
   "source": [
    "from cProfile import label\n",
    "import matplotlib.pyplot as plt\n",
    "plt.figure(figsize=(12, 6))\n",
    "\n",
    "def getColumnValues(index):\n",
    "    values = []\n",
    "    for row in interval_table[1:]:\n",
    "        values.append(row[index])\n",
    "    return values\n",
    "\n",
    "x_polygon = getColumnValues(2)\n",
    "y_polygon = getColumnValues(4)\n",
    "\n",
    "plt.plot(x_polygon, y_polygon, marker='o', markersize=6)\n",
    "plt.xticks(x_polygon)\n",
    "plt.xlabel('x')\n",
    "plt.ylabel('Частота')\n",
    "plt.title(\"Полігон частот\")\n",
    "plt.show()"
   ]
  },
  {
   "cell_type": "code",
   "execution_count": 179,
   "metadata": {},
   "outputs": [
    {
     "data": {
      "image/png": "[encoded data removed]",
      "text/plain": [
       "<Figure size 1200x600 with 1 Axes>"
      ]
     },
     "metadata": {},
     "output_type": "display_data"
    }
   ],
   "source": [
    "hist_range = (x_start, range_end)\n",
    "hist_y = getColumnValues(2)\n",
    "hist_values = getColumnValues(3)\n",
    "plt.figure(figsize=(12, 6))\n",
    "# nu, bins, pathces = \n",
    "plt.bar(hist_y, hist_values, tick_label = hist_y, color='orange', width=6)\n",
    "plt.title(\"Гістограма\")\n",
    "# plt.xticks(bins)\n",
    "plt.show()"
   ]
  },
  {
   "cell_type": "code",
   "execution_count": null,
   "metadata": {},
   "outputs": [],
   "source": []
  }
 ],
 "metadata": {
  "kernelspec": {
   "display_name": "Python 3.10.7 64-bit",
   "language": "python",
   "name": "python3"
  },
  "language_info": {
   "codemirror_mode": {
    "name": "ipython",
    "version": 3
   },
   "file_extension": ".py",
   "mimetype": "text/x-python",
   "name": "python",
   "nbconvert_exporter": "python",
   "pygments_lexer": "ipython3",
   "version": "3.10.7"
  },
  "orig_nbformat": 4,
  "vscode": {
   "interpreter": {
    "hash": "b0fa6594d8f4cbf19f97940f81e996739fb7646882a419484c72d19e05852a7e"
   }
  }
 },
 "nbformat": 4,
 "nbformat_minor": 2
}
